{
 "cells": [
  {
   "cell_type": "code",
   "execution_count": 4,
   "id": "4241dfee",
   "metadata": {},
   "outputs": [
    {
     "name": "stdout",
     "output_type": "stream",
     "text": [
      "Running on local URL:  http://127.0.0.1:7867\n",
      "\n",
      "Could not create share link. Please check your internet connection or our status page: https://status.gradio.app.\n"
     ]
    },
    {
     "data": {
      "text/html": [
       "<div><iframe src=\"http://127.0.0.1:7867/\" width=\"100%\" height=\"500\" allow=\"autoplay; camera; microphone; clipboard-read; clipboard-write;\" frameborder=\"0\" allowfullscreen></iframe></div>"
      ],
      "text/plain": [
       "<IPython.core.display.HTML object>"
      ]
     },
     "metadata": {},
     "output_type": "display_data"
    },
    {
     "data": {
      "text/plain": []
     },
     "execution_count": 4,
     "metadata": {},
     "output_type": "execute_result"
    }
   ],
   "source": [
    "import gradio as gr\n",
    "import joblib\n",
    "import pandas as pd\n",
    "\n",
    "def predict_marks(\n",
    "    study_hours\n",
    "):\n",
    "    model=joblib.load(open('student_marks_model.jb','rb'))\n",
    "    data={\n",
    "        \"study_hours\":[study_hours]\n",
    "    }\n",
    "\n",
    "    xin=pd.DataFrame(data)\n",
    "    student_marks=model.predict(xin)\n",
    "    return student_marks[0]\n",
    "\n",
    "ui=gr.Interface(\n",
    "    fn=predict_marks,\n",
    "    inputs='text',\n",
    "    outputs=\"text\",\n",
    "    title=\"student marks predictor\",\n",
    "    examples=[[5.0],\n",
    "    [8.5]],\n",
    "\n",
    ")\n",
    "\n",
    "ui.launch(share=True)"
   ]
  },
  {
   "cell_type": "code",
   "execution_count": null,
   "id": "89d1bb1d",
   "metadata": {},
   "outputs": [],
   "source": []
  }
 ],
 "metadata": {
  "kernelspec": {
   "display_name": "Python 3 (ipykernel)",
   "language": "python",
   "name": "python3"
  },
  "language_info": {
   "codemirror_mode": {
    "name": "ipython",
    "version": 3
   },
   "file_extension": ".py",
   "mimetype": "text/x-python",
   "name": "python",
   "nbconvert_exporter": "python",
   "pygments_lexer": "ipython3",
   "version": "3.11.4"
  }
 },
 "nbformat": 4,
 "nbformat_minor": 5
}
